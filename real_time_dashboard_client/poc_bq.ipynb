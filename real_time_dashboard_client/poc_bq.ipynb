{
 "cells": [
  {
   "cell_type": "markdown",
   "metadata": {},
   "source": [
    "source activate ENVNAME\n",
    "pip install ipykernel\n",
    "python -m ipykernel install --user --name ENVNAME --display-name \"Python (whatever you want to call it)\"\n",
    "\n",
    "pip install --upgrade google-api-python-client\n",
    "pip install -t lib --upgrade google-api-python-client && pip freeze > requirements.txt\n",
    "pip install -t lib --upgrade google-cloud-bigquery && pip freeze > requirements.txt\n",
    "pip install -t lib bigquery-python && pip freeze > requirements.txt\n",
    "pip install -t lib --upgrade google-cloud"
   ]
  },
  {
   "cell_type": "markdown",
   "metadata": {},
   "source": [
    "$ virtualenv venv\n",
    "$ source venv/bin/activate\n",
    "(venv) $ venv/bin/pip install --upgrade google-cloud\n",
    "(venv) $ venv/bin/python -c 'import google.cloud.storage'\n",
    "(venv) $ deactivate\n",
    "$ rm -fr venv/\n",
    "\n",
    "venv/bin/pip install --upgrade google-api-python-client\n",
    "venv/bin/pip install --upgrade webapp2\n",
    "venv/bin/pip install --upgrade webob\n",
    "venv/bin/pip install --upgrade Flask"
   ]
  },
  {
   "cell_type": "code",
   "execution_count": null,
   "metadata": {},
   "outputs": [],
   "source": [
    "from googleapiclient.discovery import build\n",
    "#from apiclient.discovery import build\n",
    "from oauth2client.service_account import ServiceAccountCredentials\n",
    "import httplib2\n",
    "from urllib2 import HTTPError\n",
    "#from slackclient import SlackClient\n",
    "import json"
   ]
  },
  {
   "cell_type": "code",
   "execution_count": null,
   "metadata": {},
   "outputs": [],
   "source": [
    "def get_service(api_name, api_version, scope, key_file_location):\n",
    "    credentials = ServiceAccountCredentials.from_json_keyfile_name(key_file_location, scope)\n",
    "    http = credentials.authorize(httplib2.Http())\n",
    "    service = build(api_name, api_version, http=http)\n",
    "\n",
    "    return service\n",
    "\n",
    "\n",
    "def get_first_profile_id(service):\n",
    "    accounts = service.management().accounts().list().execute()\n",
    "\n",
    "    if accounts.get('items'):\n",
    "        account = accounts.get('items')[0].get('id')\n",
    "        properties = service.management().webproperties().list(accountId=account).execute()\n",
    "\n",
    "        if properties.get('items'):\n",
    "            property = properties.get('items')[0].get('id')\n",
    "            profiles = service.management().profiles().list(accountId=account, webPropertyId=property).execute()\n",
    "\n",
    "        if profiles.get('items'):\n",
    "            return profiles.get('items')[0].get('id')\n",
    "\n",
    "    return None\n",
    "\n",
    "\n",
    "def get_results(service, profile_id, metrics, dimensions, sort):\n",
    "    try:\n",
    "        return service.data().realtime().get(\n",
    "            ids='ga:' + profile_id,\n",
    "            metrics=metrics,\n",
    "            dimensions=dimensions,\n",
    "            sort=sort\n",
    "        ).execute()\n",
    "\n",
    "    except TypeError, error:\n",
    "        # Handle errors in constructing a query.\n",
    "        print ('There was an error in constructing your query : %s' % error)\n",
    "\n",
    "    except HTTPError, error:\n",
    "        # Handle API errors.\n",
    "        print ('Arg, there was an API error : %s : %s' %\n",
    "               (error.resp.status, error._get_reason()))\n",
    "\n",
    "\n",
    "def get_detailed_totals(results):\n",
    "    output = []\n",
    "\n",
    "    totals = results.get('totalsForAllResults')\n",
    "    for metric_name, metric_total in totals.iteritems():\n",
    "        output.append(metric_total)\n",
    "\n",
    "    if results.get('rows', []):\n",
    "        detailed = ''\n",
    "        for row in results.get('rows')[0:10]:\n",
    "            if row[0] == '(not set)':\n",
    "                detail = ''\n",
    "            else:\n",
    "                detail = row[0]\n",
    "            detailed += '*' + row[2] + '* ' + row[1] + detail + '\\n'\n",
    "\n",
    "        output.append(detailed)\n",
    "\n",
    "    return output"
   ]
  },
  {
   "cell_type": "code",
   "execution_count": null,
   "metadata": {},
   "outputs": [],
   "source": [
    "def main():\n",
    "    response = ''\n",
    "    scope = ['https://www.googleapis.com/auth/analytics.readonly']\n",
    "    key_file_location = '/Users/jose/Documents/GitHub/google_cloud_playground/real_time_dashboard/bankinterconsumerfinance_ga-api-6c584fc0cf81.json'\n",
    "\n",
    "    service = get_service('analytics', 'v3', scope, key_file_location)\n",
    "    profile = get_first_profile_id(service)\n",
    "    print(profile)\n",
    "\n",
    "    metrics = 'rt:activeUsers'\n",
    "    dimensions = 'rt:minutesAgo,rt:source'\n",
    "    sort = '-rt:activeUsers'\n",
    "    \n",
    "    results = get_results(service, profile, metrics=metrics, dimensions=dimensions, sort=sort)\n",
    "    print(results)\n",
    "\n",
    "    detailed = get_detailed_totals(results)\n",
    "    total_active = detailed[0]\n",
    "    details = detailed[1]\n",
    "    print(total_active)\n",
    "    return total_active"
   ]
  },
  {
   "cell_type": "code",
   "execution_count": null,
   "metadata": {},
   "outputs": [],
   "source": [
    "main()"
   ]
  },
  {
   "cell_type": "code",
   "execution_count": null,
   "metadata": {},
   "outputs": [],
   "source": [
    "import datetime\n",
    "def query_rt():\n",
    "    response = ''\n",
    "    scope = ['https://www.googleapis.com/auth/analytics.readonly']\n",
    "    key_file_location = '/Users/jose/Documents/GitHub/google_cloud_playground/real_time_dashboard/bankinterconsumerfinance_ga-api-6c584fc0cf81.json'\n",
    "\n",
    "    service = get_service('analytics', 'v3', scope, key_file_location)\n",
    "    profile = get_first_profile_id(service)\n",
    "\n",
    "    metrics = 'rt:activeUsers'\n",
    "    dimensions = 'rt:minutesAgo'\n",
    "    sort = '-rt:activeUsers'\n",
    "    \n",
    "    results = get_results(service, profile, metrics=metrics, dimensions=dimensions, sort=sort)\n",
    "    #print(results)\n",
    "    totals = results.get('totalsForAllResults')\n",
    "    #for metric_name, metric_total in totals.iteritems():\n",
    "    #    print(metric_total)\n",
    "    #print(totals.keys()[0])\n",
    "    #print(totals['rt:activeUsers'])\n",
    "    ds = datetime.datetime.fromtimestamp(time.time()).strftime('%Y-%m-%d %H:%M:%S')\n",
    "    #print(ds)\n",
    "    totals['ds'] = ds\n",
    "    totals['y'] = totals.pop('rt:activeUsers')\n",
    "    return totals\n"
   ]
  },
  {
   "cell_type": "code",
   "execution_count": null,
   "metadata": {},
   "outputs": [],
   "source": [
    "query_rt()"
   ]
  },
  {
   "cell_type": "code",
   "execution_count": null,
   "metadata": {},
   "outputs": [],
   "source": [
    "def stream_data(dataset_name, table_name, json_data, time_stamp = time.time()):\n",
    "    bigquery_client = bigquery.Client()\n",
    "    dataset = bigquery_client.dataset(dataset_name)\n",
    "    table = dataset.table(table_name)\n",
    "    data = json_data\n",
    "\n",
    "    data['ts'] = time_stamp\n",
    "\n",
    "    # Reload the table to get the schema.\n",
    "    table.reload()\n",
    "\n",
    "    ## get the names of schema\n",
    "    schema = table.schema\n",
    "    schema_names = [o.name for o in schema]\n",
    "\n",
    "    logging.debug('BQ Schema: {}'.format(schema_names))\n",
    "\n",
    "    # from schema names get list of tuples of the values\n",
    "    rows = [(data[x] for x in schema_names)]\n",
    "\n",
    "    # https://googlecloudplatform.github.io/google-cloud-python/stable/bigquery-table.html#google.cloud.bigquery.table.Table.insert_data\n",
    "    errors = table.insert_data(rows, row_ids = str(uuid.uuid4()))\n",
    "\n",
    "    if not errors:\n",
    "    \tlogging.debug('Loaded 1 row into {}:{}'.format(dataset_name, table_name))\n",
    "    else:\n",
    "        logging.error(errors)"
   ]
  },
  {
   "cell_type": "code",
   "execution_count": 3,
   "metadata": {},
   "outputs": [
    {
     "ename": "ImportError",
     "evalue": "No module named google.cloud",
     "output_type": "error",
     "traceback": [
      "\u001b[0;31m---------------------------------------------------------\u001b[0m",
      "\u001b[0;31mImportError\u001b[0m             Traceback (most recent call last)",
      "\u001b[0;32m<ipython-input-3-1035661e8528>\u001b[0m in \u001b[0;36m<module>\u001b[0;34m()\u001b[0m\n\u001b[0;32m----> 1\u001b[0;31m \u001b[0;32mfrom\u001b[0m \u001b[0mgoogle\u001b[0m\u001b[0;34m.\u001b[0m\u001b[0mcloud\u001b[0m \u001b[0;32mimport\u001b[0m \u001b[0mbigquery\u001b[0m\u001b[0;34m\u001b[0m\u001b[0m\n\u001b[0m",
      "\u001b[0;31mImportError\u001b[0m: No module named google.cloud"
     ]
    }
   ],
   "source": [
    "from google.cloud import bigquery"
   ]
  },
  {
   "cell_type": "code",
   "execution_count": 4,
   "metadata": {},
   "outputs": [
    {
     "ename": "NameError",
     "evalue": "name 'bigquery' is not defined",
     "output_type": "error",
     "traceback": [
      "\u001b[0;31m---------------------------------------------------------\u001b[0m",
      "\u001b[0;31mNameError\u001b[0m               Traceback (most recent call last)",
      "\u001b[0;32m<ipython-input-4-5e9c98fba34b>\u001b[0m in \u001b[0;36m<module>\u001b[0;34m()\u001b[0m\n\u001b[0;32m----> 1\u001b[0;31m bigquery_client = bigquery.Client.from_service_account_json(\n\u001b[0m\u001b[1;32m      2\u001b[0m         './bq-ga-api-6175982920c6.json')\n",
      "\u001b[0;31mNameError\u001b[0m: name 'bigquery' is not defined"
     ]
    }
   ],
   "source": [
    "bigquery_client = bigquery.Client.from_service_account_json(\n",
    "        './bq-ga-api-6175982920c6.json')"
   ]
  },
  {
   "cell_type": "code",
   "execution_count": null,
   "metadata": {},
   "outputs": [],
   "source": [
    "def list_datasets(project=None):\n",
    "    \"\"\"Lists all datasets in a given project.\n",
    "\n",
    "    If no project is specified, then the currently active project is used.\n",
    "    \"\"\"\n",
    "    #bigquery_client = bigquery.Client(project=project)\n",
    "    bigquery_client = bigquery.Client.from_service_account_json(\n",
    "        './bq-ga-api-6175982920c6.json',project=project)\n",
    "\n",
    "    for dataset in bigquery_client.list_datasets():\n",
    "        print(dataset.name)"
   ]
  },
  {
   "cell_type": "code",
   "execution_count": null,
   "metadata": {},
   "outputs": [],
   "source": [
    "billing_projectId = \"eam-ga-api\""
   ]
  },
  {
   "cell_type": "code",
   "execution_count": null,
   "metadata": {},
   "outputs": [],
   "source": [
    "list_datasets(billing_projectId)"
   ]
  },
  {
   "cell_type": "code",
   "execution_count": null,
   "metadata": {},
   "outputs": [],
   "source": [
    "import os\n",
    "os.environ[\"GOOGLE_APPLICATION_CREDENTIALS\"] = \"/Users/jose/Documents/GitHub/google_cloud_playground/real_time_dashboard/bq-ga-api-6175982920c6.json\""
   ]
  },
  {
   "cell_type": "code",
   "execution_count": null,
   "metadata": {},
   "outputs": [],
   "source": [
    "bigquery_client = bigquery.Client()\n",
    "bigquery_client = bigquery_client.from_service_account_json('./bq-ga-api-6175982920c6.json')\n"
   ]
  },
  {
   "cell_type": "code",
   "execution_count": null,
   "metadata": {},
   "outputs": [],
   "source": [
    "bigquery_client"
   ]
  },
  {
   "cell_type": "code",
   "execution_count": null,
   "metadata": {},
   "outputs": [],
   "source": [
    "client.project"
   ]
  },
  {
   "cell_type": "markdown",
   "metadata": {},
   "source": [
    "gcloud auth application-default login\n",
    "Utilizamos el SDK\n",
    "https://github.com/GoogleCloudPlatform/python-docs-samples/tree/e5c0ff2865c1eac87fb7279b5d381c736d7a52e2/bigquery/cloud-client"
   ]
  },
  {
   "cell_type": "code",
   "execution_count": 5,
   "metadata": {},
   "outputs": [],
   "source": [
    "def implicit():\n",
    "    from google.cloud import bigquery\n",
    "\n",
    "    # If you don't specify credentials when constructing the client, the\n",
    "    # client library will look for credentials in the environment.\n",
    "    bigquery_client = bigquery.Client()\n",
    "\n",
    "    # Make an authenticated API request\n",
    "    datasets = list(bigquery_client.list_datasets())\n",
    "    print(datasets)"
   ]
  },
  {
   "cell_type": "code",
   "execution_count": 6,
   "metadata": {},
   "outputs": [
    {
     "ename": "ImportError",
     "evalue": "No module named google.cloud",
     "output_type": "error",
     "traceback": [
      "\u001b[0;31m---------------------------------------------------------\u001b[0m",
      "\u001b[0;31mImportError\u001b[0m             Traceback (most recent call last)",
      "\u001b[0;32m<ipython-input-6-31fbdeff8103>\u001b[0m in \u001b[0;36m<module>\u001b[0;34m()\u001b[0m\n\u001b[0;32m----> 1\u001b[0;31m \u001b[0mimplicit\u001b[0m\u001b[0;34m(\u001b[0m\u001b[0;34m)\u001b[0m\u001b[0;34m\u001b[0m\u001b[0m\n\u001b[0m",
      "\u001b[0;32m<ipython-input-5-bfde1b62c0de>\u001b[0m in \u001b[0;36mimplicit\u001b[0;34m()\u001b[0m\n\u001b[1;32m      1\u001b[0m \u001b[0;32mdef\u001b[0m \u001b[0mimplicit\u001b[0m\u001b[0;34m(\u001b[0m\u001b[0;34m)\u001b[0m\u001b[0;34m:\u001b[0m\u001b[0;34m\u001b[0m\u001b[0m\n\u001b[0;32m----> 2\u001b[0;31m     \u001b[0;32mfrom\u001b[0m \u001b[0mgoogle\u001b[0m\u001b[0;34m.\u001b[0m\u001b[0mcloud\u001b[0m \u001b[0;32mimport\u001b[0m \u001b[0mbigquery\u001b[0m\u001b[0;34m\u001b[0m\u001b[0m\n\u001b[0m\u001b[1;32m      3\u001b[0m \u001b[0;34m\u001b[0m\u001b[0m\n\u001b[1;32m      4\u001b[0m     \u001b[0;31m# If you don't specify credentials when constructing the client, the\u001b[0m\u001b[0;34m\u001b[0m\u001b[0;34m\u001b[0m\u001b[0m\n\u001b[1;32m      5\u001b[0m     \u001b[0;31m# client library will look for credentials in the environment.\u001b[0m\u001b[0;34m\u001b[0m\u001b[0;34m\u001b[0m\u001b[0m\n",
      "\u001b[0;31mImportError\u001b[0m: No module named google.cloud"
     ]
    }
   ],
   "source": [
    "implicit()"
   ]
  },
  {
   "cell_type": "code",
   "execution_count": null,
   "metadata": {},
   "outputs": [],
   "source": [
    "def explicit():\n",
    "    from google.cloud import bigquery\n",
    "\n",
    "    # Explicitly use service account credentials by specifying the private key\n",
    "    # file. All clients in google-cloud-python have this helper, see\n",
    "    # https://google-cloud-python.readthedocs.io/en/latest/core/modules.html\n",
    "    #   #google.cloud.client.Client.from_service_account_json\n",
    "    bigquery_client = bigquery.Client.from_service_account_json(\n",
    "        '/Users/jose/Documents/GitHub/google_cloud_playground/real_time_dashboard/bq-ga-api-6175982920c6.json')\n",
    "\n",
    "    # Make an authenticated API request\n",
    "    buckets = list(bigquery_client.list_datasets())\n",
    "    print(buckets)"
   ]
  },
  {
   "cell_type": "code",
   "execution_count": null,
   "metadata": {},
   "outputs": [],
   "source": [
    "explicit()"
   ]
  },
  {
   "cell_type": "code",
   "execution_count": null,
   "metadata": {},
   "outputs": [],
   "source": [
    "def list_datasets(project=None):\n",
    "    \"\"\"Lists all datasets in a given project.\n",
    "    If no project is specified, then the currently active project is used.\n",
    "    \"\"\"\n",
    "    bigquery_client = bigquery.Client(project=project)\n",
    "\n",
    "    for dataset in bigquery_client.list_datasets():\n",
    "        print(dataset.dataset_id)"
   ]
  },
  {
   "cell_type": "code",
   "execution_count": null,
   "metadata": {},
   "outputs": [],
   "source": [
    "list_datasets()"
   ]
  },
  {
   "cell_type": "code",
   "execution_count": null,
   "metadata": {},
   "outputs": [],
   "source": [
    "def run_quickstart():\n",
    "    # [START bigquery_quickstart]\n",
    "    # Imports the Google Cloud client library\n",
    "    from google.cloud import bigquery\n",
    "\n",
    "    # Instantiates a client\n",
    "    bigquery_client = bigquery.Client()\n",
    "\n",
    "    # The name for the new dataset\n",
    "    dataset_id = 'poc'\n",
    "\n",
    "    # Prepares a reference to the new dataset\n",
    "    dataset_ref = bigquery_client.dataset(dataset_id)\n",
    "    dataset = bigquery.Dataset(dataset_ref)\n",
    "\n",
    "    # Creates the new dataset\n",
    "    dataset = bigquery_client.create_dataset(dataset)\n",
    "\n",
    "    print('Dataset {} created.'.format(dataset.dataset_id))\n",
    "    # [END bigquery_quickstart]"
   ]
  },
  {
   "cell_type": "code",
   "execution_count": null,
   "metadata": {},
   "outputs": [],
   "source": [
    "run_quickstart()"
   ]
  },
  {
   "cell_type": "code",
   "execution_count": null,
   "metadata": {},
   "outputs": [],
   "source": [
    "def create_table(dataset_id, table_id, project=None):\n",
    "    \"\"\"Creates a simple table in the given dataset.\n",
    "    If no project is specified, then the currently active project is used.\n",
    "    \"\"\"\n",
    "    bigquery_client = bigquery.Client(project=project)\n",
    "    dataset_ref = bigquery_client.dataset(dataset_id)\n",
    "\n",
    "    table_ref = dataset_ref.table(table_id)\n",
    "    table = bigquery.Table(table_ref)\n",
    "\n",
    "    # Set the table schema\n",
    "    table.schema = (\n",
    "        bigquery.SchemaField('ds', 'TIMESTAMP'),\n",
    "        bigquery.SchemaField('y', 'INTEGER'),\n",
    "    )\n",
    "\n",
    "    table = bigquery_client.create_table(table)\n",
    "\n",
    "    print('Created table {} in dataset {}.'.format(table_id, dataset_id))"
   ]
  },
  {
   "cell_type": "code",
   "execution_count": null,
   "metadata": {},
   "outputs": [],
   "source": [
    "create_table('poc','streaming')"
   ]
  },
  {
   "cell_type": "code",
   "execution_count": null,
   "metadata": {},
   "outputs": [],
   "source": [
    "import time\n",
    "def stream_data(dataset_id, table_id, json_data, time_stamp = time.time()):\n",
    "    bigquery_client = bigquery.Client()\n",
    "    dataset_ref = bigquery_client.dataset(dataset_id)\n",
    "    table_ref = dataset_ref.table(table_id)\n",
    "    print(json_data)\n",
    "    data = json_data\n",
    "    #data = json.loads(json_data)\n",
    "    \n",
    "    #data['ts'] = time_stamp\n",
    "    print(time_stamp)\n",
    "    print(data)\n",
    "\n",
    "    # Get the table from the API so that the schema is available.\n",
    "    table = bigquery_client.get_table(table_ref)\n",
    "\n",
    "    rows = [data]\n",
    "    errors = bigquery_client.create_rows(table, rows)\n",
    "\n",
    "    if not errors:\n",
    "        print('Loaded 1 row into {}:{}'.format(dataset_id, table_id))\n",
    "    else:\n",
    "        print('Errors:')\n",
    "        pprint(errors)"
   ]
  },
  {
   "cell_type": "code",
   "execution_count": null,
   "metadata": {},
   "outputs": [],
   "source": [
    "import json\n",
    "from pprint import pprint"
   ]
  },
  {
   "cell_type": "code",
   "execution_count": null,
   "metadata": {},
   "outputs": [],
   "source": [
    "DATASET_ID = 'poc'\n",
    "TABLE_ID = 'streaming'\n",
    "RT_DATA = query_rt()\n",
    "print(RT_DATA)\n",
    "def test_stream_data():\n",
    "    stream_data(\n",
    "        DATASET_ID,\n",
    "        TABLE_ID,\n",
    "        RT_DATA)"
   ]
  },
  {
   "cell_type": "code",
   "execution_count": null,
   "metadata": {},
   "outputs": [],
   "source": [
    "test_stream_data()"
   ]
  },
  {
   "cell_type": "code",
   "execution_count": null,
   "metadata": {},
   "outputs": [],
   "source": [
    "dataset_name = 'streaming'\n",
    "table_name = 'foo'\n",
    "dataset = bigquery_client.dataset(dataset_name)\n",
    "table = dataset.table(table_name)\n",
    "#data = json_data\n",
    "data = '[\"Gandalf\", 2000, 1.2]'\n",
    "print(table)"
   ]
  },
  {
   "cell_type": "code",
   "execution_count": null,
   "metadata": {},
   "outputs": [],
   "source": [
    "table.schema"
   ]
  },
  {
   "cell_type": "code",
   "execution_count": null,
   "metadata": {},
   "outputs": [],
   "source": []
  }
 ],
 "metadata": {
  "kernelspec": {
   "display_name": "Python VENV",
   "language": "python",
   "name": "venv"
  },
  "language_info": {
   "codemirror_mode": {
    "name": "ipython",
    "version": 2
   },
   "file_extension": ".py",
   "mimetype": "text/x-python",
   "name": "python",
   "nbconvert_exporter": "python",
   "pygments_lexer": "ipython2",
   "version": "2.7.14"
  }
 },
 "nbformat": 4,
 "nbformat_minor": 2
}
