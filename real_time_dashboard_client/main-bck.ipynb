{
 "cells": [
  {
   "cell_type": "code",
   "execution_count": 12,
   "metadata": {},
   "outputs": [],
   "source": [
    "from flask import Flask\n",
    "from googleapiclient.discovery import build\n",
    "#from apiclient.discovery import build\n",
    "from oauth2client.service_account import ServiceAccountCredentials\n",
    "import httplib2\n",
    "#from urllib2 import HTTPError\n",
    "#from slackclient import SlackClient\n",
    "import json\n",
    "import time\n",
    "import datetime\n",
    "from pprint import pprint\n",
    "#from google.cloud import bigquery\n",
    "#from google.cloud import logging\n",
    "import uuid\n",
    "import logging\n",
    "import re"
   ]
  },
  {
   "cell_type": "code",
   "execution_count": 30,
   "metadata": {},
   "outputs": [],
   "source": [
    "def _log(msg):\n",
    "    #logging_client = logging.Client()\n",
    "    #logger = logging_client.logger('ga-realtime-stream')\n",
    "    logger = logging.getLogger(__name__)\n",
    "    msg = 'ga-realtime-stream: ' + msg\n",
    "    logger.info(msg)\n",
    "    print msg\n",
    "    #logger.log_text(msg, severity='INFO')"
   ]
  },
  {
   "cell_type": "code",
   "execution_count": 3,
   "metadata": {},
   "outputs": [],
   "source": [
    "def get_service(api_name, api_version, scope, key_file_location):\n",
    "    credentials = ServiceAccountCredentials.from_json_keyfile_name(key_file_location, scope)\n",
    "    http = credentials.authorize(httplib2.Http())\n",
    "    service = build(api_name, api_version, http=http)\n",
    "\n",
    "    return service\n",
    "\n",
    "\n",
    "def get_first_profile_id(service):\n",
    "    accounts = service.management().accounts().list().execute()\n",
    "\n",
    "    if accounts.get('items'):\n",
    "        account = accounts.get('items')[0].get('id')\n",
    "        properties = service.management().webproperties().list(accountId=account).execute()\n",
    "\n",
    "        if properties.get('items'):\n",
    "            property = properties.get('items')[0].get('id')\n",
    "            profiles = service.management().profiles().list(accountId=account, webPropertyId=property).execute()\n",
    "\n",
    "        if profiles.get('items'):\n",
    "            return profiles.get('items')[0].get('id')\n",
    "\n",
    "    return None\n",
    "\n",
    "\n",
    "def get_results(service, profile_id, metrics, dimensions, sort):\n",
    "    try:\n",
    "        return service.data().realtime().get(\n",
    "            ids='ga:' + profile_id,\n",
    "            metrics=metrics,\n",
    "            dimensions=dimensions,\n",
    "            sort=sort\n",
    "        ).execute()\n",
    "\n",
    "    except TypeError, error:\n",
    "        # Handle errors in constructing a query.\n",
    "        print ('There was an error in constructing your query : %s' % error)\n",
    "\n",
    "    except HTTPError, error:\n",
    "        # Handle API errors.\n",
    "        print ('Arg, there was an API error : %s : %s' %\n",
    "               (error.resp.status, error._get_reason()))\n",
    "\n",
    "\n",
    "def get_detailed_totals(results):\n",
    "    output = []\n",
    "\n",
    "    totals = results.get('totalsForAllResults')\n",
    "    for metric_name, metric_total in totals.iteritems():\n",
    "        output.append(metric_total)\n",
    "\n",
    "    if results.get('rows', []):\n",
    "        detailed = ''\n",
    "        for row in results.get('rows')[0:10]:\n",
    "            if row[0] == '(not set)':\n",
    "                detail = ''\n",
    "            else:\n",
    "                detail = row[0]\n",
    "            detailed += '*' + row[2] + '* ' + row[1] + detail + '\\n'\n",
    "\n",
    "        output.append(detailed)\n",
    "\n",
    "    return output"
   ]
  },
  {
   "cell_type": "code",
   "execution_count": 4,
   "metadata": {},
   "outputs": [
    {
     "name": "stdout",
     "output_type": "stream",
     "text": [
      "112381683\n",
      "{u'kind': u'analytics#realtimeData', u'rows': [[u'(not set)', u'47']], u'totalResults': 1, u'totalsForAllResults': {u'rt:activeUsers': u'47'}, u'columnHeaders': [{u'dataType': u'STRING', u'columnType': u'DIMENSION', u'name': u'rt:minutesAgo'}, {u'dataType': u'INTEGER', u'columnType': u'METRIC', u'name': u'rt:activeUsers'}], u'query': {u'metrics': [u'rt:activeUsers'], u'sort': [u'-rt:activeUsers'], u'max-results': 1000, u'ids': u'ga:112381683', u'dimensions': u'rt:minutesAgo'}, u'profileInfo': {u'webPropertyId': u'UA-70612052-1', u'internalWebPropertyId': u'107870072', u'tableId': u'realtime:112381683', u'profileId': u'112381683', u'profileName': u'00 - TODO BankinterConsumerFinance', u'accountId': u'70612052'}, u'id': u'https://www.googleapis.com/analytics/v3/data/realtime?ids=ga:112381683&dimensions=rt:minutesAgo&metrics=rt:activeUsers&sort=-rt:activeUsers', u'selfLink': u'https://www.googleapis.com/analytics/v3/data/realtime?ids=ga:112381683&dimensions=rt:minutesAgo&metrics=rt:activeUsers&sort=-rt:activeUsers'}\n",
      "2017-11-21 00:27:29\n",
      "{'y': u'47', 'ds': '2017-11-21 00:27:29'}\n"
     ]
    }
   ],
   "source": [
    "    response = ''\n",
    "    scope = ['https://www.googleapis.com/auth/analytics.readonly']\n",
    "    key_file_location = 'bankinterconsumerfinance_ga-api-6c584fc0cf81.json'\n",
    "\n",
    "    service = get_service('analytics', 'v3', scope, key_file_location)\n",
    "    profile = get_first_profile_id(service)\n",
    "    print profile\n",
    "    metrics = 'rt:activeUsers'\n",
    "    dimensions = 'rt:minutesAgo'\n",
    "    sort = '-rt:activeUsers'\n",
    "    \n",
    "    results = get_results(service, profile, metrics=metrics, dimensions=dimensions, sort=sort)\n",
    "    print(results)\n",
    "    totals = results.get('totalsForAllResults')\n",
    "    #for metric_name, metric_total in totals.iteritems():\n",
    "    #    print(metric_total)\n",
    "    #print(totals.keys()[0])\n",
    "    #print(totals['rt:activeUsers'])\n",
    "    ds = datetime.datetime.fromtimestamp(time.time()).strftime('%Y-%m-%d %H:%M:%S')\n",
    "    print(ds)\n",
    "    totals['ds'] = ds\n",
    "    totals['y'] = totals.pop('rt:activeUsers')\n",
    "    print totals"
   ]
  },
  {
   "cell_type": "code",
   "execution_count": 5,
   "metadata": {},
   "outputs": [],
   "source": [
    "\n",
    "def query_rt():\n",
    "    response = ''\n",
    "    scope = ['https://www.googleapis.com/auth/analytics.readonly']\n",
    "    key_file_location = 'bankinterconsumerfinance_ga-api-6c584fc0cf81.json'\n",
    "\n",
    "    service = get_service('analytics', 'v3', scope, key_file_location)\n",
    "    profile = get_first_profile_id(service)\n",
    "\n",
    "    metrics = 'rt:activeUsers'\n",
    "    dimensions = 'rt:minutesAgo'\n",
    "    sort = '-rt:activeUsers'\n",
    "    \n",
    "    results = get_results(service, profile, metrics=metrics, dimensions=dimensions, sort=sort)\n",
    "    #print(results)\n",
    "    totals = results.get('totalsForAllResults')\n",
    "    #for metric_name, metric_total in totals.iteritems():\n",
    "    #    print(metric_total)\n",
    "    #print(totals.keys()[0])\n",
    "    #print(totals['rt:activeUsers'])\n",
    "    ds = datetime.datetime.fromtimestamp(time.time()).strftime('%Y-%m-%d %H:%M:%S')\n",
    "    #print(ds)\n",
    "    totals['ds'] = ds\n",
    "    totals['y'] = totals.pop('rt:activeUsers')\n",
    "    return totals\n",
    "\n"
   ]
  },
  {
   "cell_type": "code",
   "execution_count": 6,
   "metadata": {},
   "outputs": [],
   "source": [
    "rt_res = query_rt()"
   ]
  },
  {
   "cell_type": "code",
   "execution_count": 7,
   "metadata": {},
   "outputs": [
    {
     "name": "stdout",
     "output_type": "stream",
     "text": [
      "{'y': u'47', 'ds': '2017-11-21 00:27:32'}\n"
     ]
    }
   ],
   "source": [
    "#[{'y': '10000', 'ds': '2017-11-17 10:17:01'}]\n",
    "print rt_res"
   ]
  },
  {
   "cell_type": "code",
   "execution_count": 8,
   "metadata": {},
   "outputs": [],
   "source": [
    "#type(rt_res)"
   ]
  },
  {
   "cell_type": "code",
   "execution_count": 33,
   "metadata": {},
   "outputs": [
    {
     "data": {
      "text/plain": [
       "[{'ds': '2017-11-21 00:27:32', 'y': u'47'}]"
      ]
     },
     "execution_count": 33,
     "metadata": {},
     "output_type": "execute_result"
    }
   ],
   "source": [
    "[rt_res]"
   ]
  },
  {
   "cell_type": "code",
   "execution_count": 13,
   "metadata": {},
   "outputs": [],
   "source": [
    "def stream_data():\n",
    "    from bigquery import get_client\n",
    "    json_key = 'eam-poc-realtime-5a6f52eaaec6.json'\n",
    "    client = get_client(json_key_file=json_key, readonly=False)\n",
    "    rt_res = query_rt()\n",
    "    _log(str(rt_res))\n",
    "    inserted = client.push_rows('streaming', 'active_users', [rt_res], insert_id_key=str(uuid.uuid4()))\n",
    "    return str(inserted)"
   ]
  },
  {
   "cell_type": "code",
   "execution_count": 28,
   "metadata": {},
   "outputs": [
    {
     "data": {
      "text/plain": [
       "False"
      ]
     },
     "execution_count": 28,
     "metadata": {},
     "output_type": "execute_result"
    }
   ],
   "source": [
    "    from bigquery import get_client\n",
    "    json_key = 'eam-poc-realtime-5a6f52eaaec6.json'\n",
    "    client = get_client(json_key_file=json_key, readonly=False)\n",
    "    unique_id=uuid.uuid4()\n",
    "    #print(str(uuid.uuid4()))\n",
    "    client.push_rows(dataset='streaming', table='active_users',rows=[rt_res], insert_id_key=str(uuid.uuid4()))"
   ]
  },
  {
   "cell_type": "code",
   "execution_count": 30,
   "metadata": {},
   "outputs": [],
   "source": [
    "import uuid\n",
    "import logging\n",
    "\n",
    "logger = logging.getLogger(__name__)\n",
    "\n",
    "logger.info('init')\n",
    "_log(str(rt_res))"
   ]
  },
  {
   "cell_type": "code",
   "execution_count": 73,
   "metadata": {},
   "outputs": [],
   "source": [
    "query='''SELECT\n",
    "  * EXCEPT(row_number)\n",
    "FROM (\n",
    "  SELECT\n",
    "    *,\n",
    "    ROW_NUMBER()\n",
    "          OVER (PARTITION BY ds) row_number\n",
    "  FROM\n",
    "    `streaming.%s`)\n",
    "WHERE\n",
    "  row_number = 1'''# Duplicates\n",
    "\n",
    "#sql_query = query % ('fcst_active_users')\n",
    "#sql_query"
   ]
  },
  {
   "cell_type": "code",
   "execution_count": 74,
   "metadata": {},
   "outputs": [],
   "source": [
    "def process_forecasts(table):\n",
    "    from bigquery import get_client\n",
    "    json_key = 'eam-poc-realtime-5a6f52eaaec6.json'\n",
    "    client = get_client(json_key_file=json_key, readonly=False)\n",
    "    \n",
    "    sql_query = query % (table)\n",
    "    \n",
    "    job = client.write_to_table(query=sql_query,\n",
    "                                dataset='streaming',\n",
    "                                table='fcst_active_users_report',\n",
    "                                create_disposition = 'CREATE_IF_NEEDED', \n",
    "                                write_disposition = 'WRITE_TRUNCATE', \n",
    "                                use_legacy_sql= False)\n",
    "    try:\n",
    "        job_resource = client.wait_for_job(job, timeout=60)\n",
    "        return job_resource\n",
    "    except BigQueryTimeoutException:\n",
    "        print \"Timeout\"\n",
    "    \n",
    "    \n",
    "res_process = process_forecasts('fcst_active_users')    "
   ]
  },
  {
   "cell_type": "code",
   "execution_count": 75,
   "metadata": {},
   "outputs": [
    {
     "data": {
      "text/plain": [
       "u'DONE'"
      ]
     },
     "execution_count": 75,
     "metadata": {},
     "output_type": "execute_result"
    }
   ],
   "source": [
    "res_process['status']['state']"
   ]
  },
  {
   "cell_type": "markdown",
   "metadata": {},
   "source": [
    "from bigquery import get_client\n",
    "json_key = 'eam-poc-realtime-5a6f52eaaec6.json'\n",
    "client = get_client(json_key_file=json_key, readonly=False)\n",
    "job = client.write_to_table(query='''SELECT\n",
    "  * EXCEPT(row_number)\n",
    "FROM (\n",
    "  SELECT\n",
    "    *,\n",
    "    ROW_NUMBER()\n",
    "          OVER (PARTITION BY ds) row_number\n",
    "  FROM\n",
    "    `eam-poc-realtime.streaming.fcst_active_users`)\n",
    "WHERE\n",
    "  row_number = 1''',dataset='streaming',\n",
    "                            table='fcst_active_users_report',\n",
    "                            create_disposition = 'CREATE_IF_NEEDED', \n",
    "                            write_disposition = 'WRITE_TRUNCATE', \n",
    "                            use_legacy_sql= False)\n",
    "try:\n",
    "    job_resource = client.wait_for_job(job, timeout=60)\n",
    "    print job_resource\n",
    "except BigQueryTimeoutException:\n",
    "    print \"Timeout\""
   ]
  },
  {
   "cell_type": "code",
   "execution_count": 53,
   "metadata": {},
   "outputs": [
    {
     "data": {
      "text/plain": [
       "[{u'datasetReference': {u'datasetId': u'streaming',\n",
       "   u'projectId': u'eam-poc-realtime'},\n",
       "  u'id': u'eam-poc-realtime:streaming',\n",
       "  u'kind': u'bigquery#dataset'}]"
      ]
     },
     "execution_count": 53,
     "metadata": {},
     "output_type": "execute_result"
    }
   ],
   "source": [
    "client.get_datasets()"
   ]
  },
  {
   "cell_type": "code",
   "execution_count": 55,
   "metadata": {},
   "outputs": [
    {
     "name": "stdout",
     "output_type": "stream",
     "text": [
      "[u'active_users', u'fcst', u'fcst_active_users', u'fcst_active_users_report']\n"
     ]
    }
   ],
   "source": [
    "all_tables = client.get_all_tables(dataset_id='streaming')\n",
    "print all_tables"
   ]
  },
  {
   "cell_type": "code",
   "execution_count": 60,
   "metadata": {},
   "outputs": [
    {
     "data": {
      "text/plain": [
       "list"
      ]
     },
     "execution_count": 60,
     "metadata": {},
     "output_type": "execute_result"
    }
   ],
   "source": [
    "type(all_tables)"
   ]
  },
  {
   "cell_type": "code",
   "execution_count": 64,
   "metadata": {},
   "outputs": [
    {
     "name": "stdout",
     "output_type": "stream",
     "text": [
      "[u'fcst_active_users']\n"
     ]
    }
   ],
   "source": [
    "import re\n",
    "r = re.compile(\"^fcst_[a-zA-Z_]+(?<!report)$\")\n",
    "tables = filter(r.match, all_tables)\n",
    "print str(tables)"
   ]
  },
  {
   "cell_type": "code",
   "execution_count": 77,
   "metadata": {},
   "outputs": [
    {
     "name": "stdout",
     "output_type": "stream",
     "text": [
      "[{u'status': {u'state': u'DONE'}, u'kind': u'bigquery#job', u'statistics': {u'query': {u'totalSlotMs': u'2000', u'queryPlan': [{u'computeMsMax': u'21', u'waitMsAvg': u'0', u'id': u'1', u'waitMsMax': u'0', u'readMsMax': u'0', u'waitRatioMax': 0.0, u'readRatioAvg': 0.0, u'recordsRead': u'2042', u'computeRatioAvg': 0.21955228175257732, u'writeMsAvg': u'7', u'status': u'COMPLETE', u'writeMsMax': u'7', u'computeMsAvg': u'21', u'shuffleOutputBytesSpilled': u'0', u'writeRatioMax': 0.07559020618556701, u'readMsAvg': u'0', u'waitRatioAvg': 0.0, u'computeRatioMax': 0.21955228175257732, u'name': u'Stage 1', u'shuffleOutputBytes': u'385938', u'recordsWritten': u'2042', u'readRatioMax': 0.0, u'steps': [{u'kind': u'READ', u'substeps': [u'$1:ds, $2:y, $3:trend, $4:trend_lower, $5:trend_upper, ...', u'FROM streaming.fcst_active_users']}, {u'kind': u'WRITE', u'substeps': [u'$1, $2, $3, $4, $5, ...', u'TO __SHUFFLE0', u'BY HASH($1)']}], u'writeRatioAvg': 0.07559020618556701}, {u'computeMsMax': u'21', u'waitMsAvg': u'27', u'id': u'2', u'waitMsMax': u'27', u'readMsMax': u'0', u'waitRatioMax': 0.27835051546391754, u'readRatioAvg': 0.0, u'recordsRead': u'2042', u'computeRatioAvg': 0.2247498430927835, u'writeMsAvg': u'4', u'status': u'COMPLETE', u'writeMsMax': u'4', u'computeMsAvg': u'21', u'shuffleOutputBytesSpilled': u'0', u'writeRatioMax': 0.0475529587628866, u'readMsAvg': u'0', u'waitRatioAvg': 0.27835051546391754, u'computeRatioMax': 0.2247498430927835, u'name': u'Stage 2', u'shuffleOutputBytes': u'385938', u'recordsWritten': u'2042', u'readRatioMax': 0.0, u'steps': [{u'kind': u'READ', u'substeps': [u'$1, $2, $3, $4, $5, ...', u'FROM __SHUFFLE0']}, {u'kind': u'SORT', u'substeps': [u'$1 ASC']}, {u'kind': u'ANALYTIC_FUNCTION', u'substeps': [u'ROW_NUMBER() OVER (PARTITION BY $40)']}, {u'kind': u'FILTER', u'substeps': [u'equal($30, 1)']}, {u'kind': u'WRITE', u'substeps': [u'$70, $71, $72, $73, $74, ...', u'TO __SHUFFLE1']}], u'writeRatioAvg': 0.0475529587628866}, {u'computeMsMax': u'7', u'waitMsAvg': u'0', u'id': u'3', u'waitMsMax': u'2', u'readMsMax': u'0', u'waitRatioMax': 0.020618556701030927, u'readRatioAvg': 0.0, u'recordsRead': u'2042', u'computeRatioAvg': 0.055173142292164926, u'writeMsAvg': u'22', u'status': u'COMPLETE', u'writeMsMax': u'30', u'computeMsAvg': u'5', u'shuffleOutputBytesSpilled': u'0', u'writeRatioMax': 0.31861194845360824, u'readMsAvg': u'0', u'waitRatioAvg': 0.009484536082474227, u'computeRatioMax': 0.07821055541237114, u'name': u'Stage 3', u'shuffleOutputBytes': u'385938', u'recordsWritten': u'2042', u'readRatioMax': 0.0, u'steps': [{u'kind': u'READ', u'substeps': [u'$70, $71, $72, $73, $74, ...', u'FROM __SHUFFLE1']}, {u'kind': u'WRITE', u'substeps': [u'$70, $71, $72, $73, $74, ...', u'TO __SHUFFLE1_COALESCE0']}], u'writeRatioAvg': 0.22869047134020623}, {u'computeMsMax': u'62', u'waitMsAvg': u'97', u'id': u'4', u'waitMsMax': u'97', u'readMsMax': u'0', u'waitRatioMax': 1.0, u'readRatioAvg': 0.0, u'recordsRead': u'2042', u'computeRatioAvg': 0.6394168528453608, u'writeMsAvg': u'83', u'status': u'COMPLETE', u'writeMsMax': u'83', u'computeMsAvg': u'62', u'shuffleOutputBytesSpilled': u'0', u'writeRatioMax': 0.8586148969072165, u'readMsAvg': u'0', u'waitRatioAvg': 1.0, u'computeRatioMax': 0.6394168528453608, u'name': u'Stage 4', u'shuffleOutputBytes': u'0', u'recordsWritten': u'2042', u'readRatioMax': 0.0, u'steps': [{u'kind': u'READ', u'substeps': [u'$70, $71, $72, $73, $74, ...', u'FROM __SHUFFLE1_COALESCE0']}, {u'kind': u'WRITE', u'substeps': [u'$70, $71, $72, $73, $74, ...', u'TO __output']}], u'writeRatioAvg': 0.8586148969072165}], u'statementType': u'SELECT', u'totalBytesBilled': u'0', u'totalBytesProcessed': u'0', u'cacheHit': False, u'billingTier': 1, u'referencedTables': [{u'projectId': u'eam-poc-realtime', u'tableId': u'fcst_active_users', u'datasetId': u'streaming'}]}, u'endTime': u'1511347073711', u'creationTime': u'1511347071123', u'totalBytesProcessed': u'0', u'startTime': u'1511347071392'}, u'jobReference': {u'projectId': u'eam-poc-realtime', u'jobId': u'job_jHT41_mmwciBJfkGKoYdpVIY5lvF'}, u'etag': u'\"cX5UmbB_R-S07ii743IKGH9YCYM/rsrRSbL5Ym1gNi2zMhhOu_vaeo4\"', u'user_email': u'bq-streamer@eam-poc-realtime.iam.gserviceaccount.com', u'configuration': {u'query': {u'createDisposition': u'CREATE_IF_NEEDED', u'query': u'SELECT\\n  * EXCEPT(row_number)\\nFROM (\\n  SELECT\\n    *,\\n    ROW_NUMBER()\\n          OVER (PARTITION BY ds) row_number\\n  FROM\\n    `streaming.fcst_active_users`)\\nWHERE\\n  row_number = 1', u'writeDisposition': u'WRITE_TRUNCATE', u'destinationTable': {u'projectId': u'eam-poc-realtime', u'tableId': u'fcst_active_users_report', u'datasetId': u'streaming'}, u'useLegacySql': False}}, u'id': u'eam-poc-realtime:job_jHT41_mmwciBJfkGKoYdpVIY5lvF', u'selfLink': u'https://www.googleapis.com/bigquery/v2/projects/eam-poc-realtime/jobs/job_jHT41_mmwciBJfkGKoYdpVIY5lvF'}]\n"
     ]
    }
   ],
   "source": [
    "res_process = [ process_forecasts(x) for x in tables ]\n",
    "print str(res_process)"
   ]
  },
  {
   "cell_type": "code",
   "execution_count": 67,
   "metadata": {},
   "outputs": [
    {
     "data": {
      "text/plain": [
       "list"
      ]
     },
     "execution_count": 67,
     "metadata": {},
     "output_type": "execute_result"
    }
   ],
   "source": [
    "type(tables)"
   ]
  },
  {
   "cell_type": "code",
   "execution_count": null,
   "metadata": {},
   "outputs": [],
   "source": []
  },
  {
   "cell_type": "code",
   "execution_count": null,
   "metadata": {},
   "outputs": [],
   "source": []
  },
  {
   "cell_type": "code",
   "execution_count": null,
   "metadata": {},
   "outputs": [],
   "source": []
  },
  {
   "cell_type": "markdown",
   "metadata": {},
   "source": [
    "# Submit an async query.\n",
    "job_id, _results = client.query('SELECT * FROM poc.streaming LIMIT 1000')\n",
    "\n",
    "# Check if the query has finished running.\n",
    "complete, row_count = client.check_job(job_id)\n",
    "\n",
    "# Retrieve the results.\n",
    "results = client.get_query_rows(job_id)"
   ]
  },
  {
   "cell_type": "markdown",
   "metadata": {},
   "source": [
    "rows =  [\n",
    "    {'ds': '2017-11-17 10:17:01', 'y': '10000'}\n",
    "]\n",
    "type(rows); print rows"
   ]
  },
  {
   "cell_type": "code",
   "execution_count": 19,
   "metadata": {},
   "outputs": [
    {
     "data": {
      "text/plain": [
       "[{'ds': '2017-11-21 00:27:32', 'y': u'47'}]"
      ]
     },
     "execution_count": 19,
     "metadata": {},
     "output_type": "execute_result"
    }
   ],
   "source": [
    "[rt_res]"
   ]
  },
  {
   "cell_type": "code",
   "execution_count": 32,
   "metadata": {},
   "outputs": [
    {
     "name": "stdout",
     "output_type": "stream",
     "text": [
      "ga-realtime-stream: {'y': u'60', 'ds': '2017-11-21 07:46:40'}\n"
     ]
    },
    {
     "data": {
      "text/plain": [
       "'True'"
      ]
     },
     "execution_count": 32,
     "metadata": {},
     "output_type": "execute_result"
    }
   ],
   "source": [
    "stream_data()"
   ]
  },
  {
   "cell_type": "code",
   "execution_count": 48,
   "metadata": {},
   "outputs": [],
   "source": [
    "app = Flask(__name__)"
   ]
  },
  {
   "cell_type": "code",
   "execution_count": 49,
   "metadata": {},
   "outputs": [],
   "source": [
    "@app.route('/')\n",
    "def stream():\n",
    "    stream_data()\n",
    "    return 'streamed!'"
   ]
  },
  {
   "cell_type": "code",
   "execution_count": 89,
   "metadata": {},
   "outputs": [
    {
     "data": {
      "text/plain": [
       "u'fcst_active_users_report'"
      ]
     },
     "execution_count": 89,
     "metadata": {},
     "output_type": "execute_result"
    }
   ],
   "source": [
    "res_process[0]['configuration']['query']['destinationTable']['tableId']"
   ]
  },
  {
   "cell_type": "code",
   "execution_count": 144,
   "metadata": {},
   "outputs": [
    {
     "data": {
      "text/plain": [
       "{'status': [u'DONE'], 'table': [u'fcst_active_users_report']}"
      ]
     },
     "execution_count": 144,
     "metadata": {},
     "output_type": "execute_result"
    }
   ],
   "source": [
    "res_process_dict = {}\n",
    "for i in range(len(res_process)):\n",
    "    res_process_dict['table'] = [res_process[i]['configuration']['query']['destinationTable']['tableId']]\n",
    "    res_process_dict['status'] = [res_process[i]['status']['state']]\n",
    "    \n",
    "res_process_dict"
   ]
  },
  {
   "cell_type": "code",
   "execution_count": 150,
   "metadata": {},
   "outputs": [
    {
     "data": {
      "text/plain": [
       "[u'DONE']"
      ]
     },
     "execution_count": 150,
     "metadata": {},
     "output_type": "execute_result"
    }
   ],
   "source": [
    "res_process_dict.values()[0] "
   ]
  },
  {
   "cell_type": "code",
   "execution_count": 156,
   "metadata": {},
   "outputs": [],
   "source": [
    "if(all(val=='DONE' for val in res_process_dict.values()[0])):\n",
    "    print('ok')"
   ]
  },
  {
   "cell_type": "code",
   "execution_count": 101,
   "metadata": {},
   "outputs": [],
   "source": [
    "#[[x['configuration']['query']['destinationTable']['tableId'], x['status']['state']] for x in res_process ]"
   ]
  },
  {
   "cell_type": "code",
   "execution_count": 157,
   "metadata": {},
   "outputs": [],
   "source": [
    "@app.route('/make_reports')\n",
    "def make_reports():\n",
    "    from bigquery import get_client\n",
    "    json_key = 'eam-poc-realtime-5a6f52eaaec6.json'\n",
    "    client = get_client(json_key_file=json_key, readonly=False)\n",
    "    \n",
    "    all_tables = client.get_all_tables(dataset_id='streaming')\n",
    "    \n",
    "    r = re.compile(\"^fcst_[a-zA-Z_]+(?<!report)$\")\n",
    "    tables = filter(r.match, all_tables)\n",
    "    \n",
    "    res_process = [ process_forecasts(x) for x in tables ]\n",
    "    \n",
    "    res_process_dict = {}\n",
    "    for i in range(len(res_process)):\n",
    "        res_process_dict['table'] = [res_process[i]['configuration']['query']['destinationTable']['tableId']]\n",
    "        res_process_dict['status'] = [res_process[i]['status']['state']]\n",
    "        \n",
    "    all_jobs_done = all(val=='DONE' for val in res_process_dict.values()[0])\n",
    "    \n",
    "    if all_jobs_done:\n",
    "        print \"Al jobs finished\"\n",
    "    else:\n",
    "        print \"Job failed!\"\n",
    "        \n",
    "    \n",
    "    #res_process = process_forecasts('active_users') \n",
    "    #status = res_process['status']['state']\n",
    "    #return str(status)"
   ]
  },
  {
   "cell_type": "code",
   "execution_count": 158,
   "metadata": {},
   "outputs": [
    {
     "name": "stdout",
     "output_type": "stream",
     "text": [
      "Al jobs finished\n"
     ]
    }
   ],
   "source": [
    "make_reports()"
   ]
  },
  {
   "cell_type": "code",
   "execution_count": null,
   "metadata": {},
   "outputs": [],
   "source": [
    "@app.errorhandler(500)\n",
    "def server_error(e):\n",
    "    #logging.exception('An error occurred during a request.')\n",
    "    msg = 'An error occurred during a request.'\n",
    "    print(msg)\n",
    "    _log(msg)\n",
    "    return \"\"\"\n",
    "    An internal error occurred: <pre>{}</pre>\n",
    "    See logs for full stacktrace.\n",
    "    \"\"\".format(e), 500\n",
    "\n",
    "\n",
    "if __name__ == '__main__':\n",
    "    # This is used when running locally. Gunicorn is used to run the\n",
    "    # application on Google App Engine. See entrypoint in app.yaml.\n",
    "    app.run(host='127.0.0.1', port=8081, debug=True)"
   ]
  },
  {
   "cell_type": "code",
   "execution_count": null,
   "metadata": {},
   "outputs": [],
   "source": []
  }
 ],
 "metadata": {
  "kernelspec": {
   "display_name": "Python VENV",
   "language": "python",
   "name": "venv"
  },
  "language_info": {
   "codemirror_mode": {
    "name": "ipython",
    "version": 2
   },
   "file_extension": ".py",
   "mimetype": "text/x-python",
   "name": "python",
   "nbconvert_exporter": "python",
   "pygments_lexer": "ipython2",
   "version": "2.7.14"
  }
 },
 "nbformat": 4,
 "nbformat_minor": 2
}
