{
 "cells": [
  {
   "cell_type": "code",
   "execution_count": 12,
   "metadata": {},
   "outputs": [],
   "source": [
    "from flask import Flask\n",
    "from googleapiclient.discovery import build\n",
    "#from apiclient.discovery import build\n",
    "from oauth2client.service_account import ServiceAccountCredentials\n",
    "import httplib2\n",
    "#from urllib2 import HTTPError\n",
    "#from slackclient import SlackClient\n",
    "import json\n",
    "import time\n",
    "import datetime\n",
    "from pprint import pprint\n",
    "#from google.cloud import bigquery\n",
    "#from google.cloud import logging\n",
    "import uuid\n",
    "import logging"
   ]
  },
  {
   "cell_type": "code",
   "execution_count": 30,
   "metadata": {},
   "outputs": [],
   "source": [
    "def _log(msg):\n",
    "    #logging_client = logging.Client()\n",
    "    #logger = logging_client.logger('ga-realtime-stream')\n",
    "    logger = logging.getLogger(__name__)\n",
    "    msg = 'ga-realtime-stream: ' + msg\n",
    "    logger.info(msg)\n",
    "    print msg\n",
    "    #logger.log_text(msg, severity='INFO')"
   ]
  },
  {
   "cell_type": "code",
   "execution_count": 3,
   "metadata": {},
   "outputs": [],
   "source": [
    "def get_service(api_name, api_version, scope, key_file_location):\n",
    "    credentials = ServiceAccountCredentials.from_json_keyfile_name(key_file_location, scope)\n",
    "    http = credentials.authorize(httplib2.Http())\n",
    "    service = build(api_name, api_version, http=http)\n",
    "\n",
    "    return service\n",
    "\n",
    "\n",
    "def get_first_profile_id(service):\n",
    "    accounts = service.management().accounts().list().execute()\n",
    "\n",
    "    if accounts.get('items'):\n",
    "        account = accounts.get('items')[0].get('id')\n",
    "        properties = service.management().webproperties().list(accountId=account).execute()\n",
    "\n",
    "        if properties.get('items'):\n",
    "            property = properties.get('items')[0].get('id')\n",
    "            profiles = service.management().profiles().list(accountId=account, webPropertyId=property).execute()\n",
    "\n",
    "        if profiles.get('items'):\n",
    "            return profiles.get('items')[0].get('id')\n",
    "\n",
    "    return None\n",
    "\n",
    "\n",
    "def get_results(service, profile_id, metrics, dimensions, sort):\n",
    "    try:\n",
    "        return service.data().realtime().get(\n",
    "            ids='ga:' + profile_id,\n",
    "            metrics=metrics,\n",
    "            dimensions=dimensions,\n",
    "            sort=sort\n",
    "        ).execute()\n",
    "\n",
    "    except TypeError, error:\n",
    "        # Handle errors in constructing a query.\n",
    "        print ('There was an error in constructing your query : %s' % error)\n",
    "\n",
    "    except HTTPError, error:\n",
    "        # Handle API errors.\n",
    "        print ('Arg, there was an API error : %s : %s' %\n",
    "               (error.resp.status, error._get_reason()))\n",
    "\n",
    "\n",
    "def get_detailed_totals(results):\n",
    "    output = []\n",
    "\n",
    "    totals = results.get('totalsForAllResults')\n",
    "    for metric_name, metric_total in totals.iteritems():\n",
    "        output.append(metric_total)\n",
    "\n",
    "    if results.get('rows', []):\n",
    "        detailed = ''\n",
    "        for row in results.get('rows')[0:10]:\n",
    "            if row[0] == '(not set)':\n",
    "                detail = ''\n",
    "            else:\n",
    "                detail = row[0]\n",
    "            detailed += '*' + row[2] + '* ' + row[1] + detail + '\\n'\n",
    "\n",
    "        output.append(detailed)\n",
    "\n",
    "    return output"
   ]
  },
  {
   "cell_type": "code",
   "execution_count": 4,
   "metadata": {},
   "outputs": [
    {
     "name": "stdout",
     "output_type": "stream",
     "text": [
      "112381683\n",
      "{u'kind': u'analytics#realtimeData', u'rows': [[u'(not set)', u'47']], u'totalResults': 1, u'totalsForAllResults': {u'rt:activeUsers': u'47'}, u'columnHeaders': [{u'dataType': u'STRING', u'columnType': u'DIMENSION', u'name': u'rt:minutesAgo'}, {u'dataType': u'INTEGER', u'columnType': u'METRIC', u'name': u'rt:activeUsers'}], u'query': {u'metrics': [u'rt:activeUsers'], u'sort': [u'-rt:activeUsers'], u'max-results': 1000, u'ids': u'ga:112381683', u'dimensions': u'rt:minutesAgo'}, u'profileInfo': {u'webPropertyId': u'UA-70612052-1', u'internalWebPropertyId': u'107870072', u'tableId': u'realtime:112381683', u'profileId': u'112381683', u'profileName': u'00 - TODO BankinterConsumerFinance', u'accountId': u'70612052'}, u'id': u'https://www.googleapis.com/analytics/v3/data/realtime?ids=ga:112381683&dimensions=rt:minutesAgo&metrics=rt:activeUsers&sort=-rt:activeUsers', u'selfLink': u'https://www.googleapis.com/analytics/v3/data/realtime?ids=ga:112381683&dimensions=rt:minutesAgo&metrics=rt:activeUsers&sort=-rt:activeUsers'}\n",
      "2017-11-21 00:27:29\n",
      "{'y': u'47', 'ds': '2017-11-21 00:27:29'}\n"
     ]
    }
   ],
   "source": [
    "    response = ''\n",
    "    scope = ['https://www.googleapis.com/auth/analytics.readonly']\n",
    "    key_file_location = 'bankinterconsumerfinance_ga-api-6c584fc0cf81.json'\n",
    "\n",
    "    service = get_service('analytics', 'v3', scope, key_file_location)\n",
    "    profile = get_first_profile_id(service)\n",
    "    print profile\n",
    "    metrics = 'rt:activeUsers'\n",
    "    dimensions = 'rt:minutesAgo'\n",
    "    sort = '-rt:activeUsers'\n",
    "    \n",
    "    results = get_results(service, profile, metrics=metrics, dimensions=dimensions, sort=sort)\n",
    "    print(results)\n",
    "    totals = results.get('totalsForAllResults')\n",
    "    #for metric_name, metric_total in totals.iteritems():\n",
    "    #    print(metric_total)\n",
    "    #print(totals.keys()[0])\n",
    "    #print(totals['rt:activeUsers'])\n",
    "    ds = datetime.datetime.fromtimestamp(time.time()).strftime('%Y-%m-%d %H:%M:%S')\n",
    "    print(ds)\n",
    "    totals['ds'] = ds\n",
    "    totals['y'] = totals.pop('rt:activeUsers')\n",
    "    print totals"
   ]
  },
  {
   "cell_type": "code",
   "execution_count": 5,
   "metadata": {},
   "outputs": [],
   "source": [
    "\n",
    "def query_rt():\n",
    "    response = ''\n",
    "    scope = ['https://www.googleapis.com/auth/analytics.readonly']\n",
    "    key_file_location = 'bankinterconsumerfinance_ga-api-6c584fc0cf81.json'\n",
    "\n",
    "    service = get_service('analytics', 'v3', scope, key_file_location)\n",
    "    profile = get_first_profile_id(service)\n",
    "\n",
    "    metrics = 'rt:activeUsers'\n",
    "    dimensions = 'rt:minutesAgo'\n",
    "    sort = '-rt:activeUsers'\n",
    "    \n",
    "    results = get_results(service, profile, metrics=metrics, dimensions=dimensions, sort=sort)\n",
    "    #print(results)\n",
    "    totals = results.get('totalsForAllResults')\n",
    "    #for metric_name, metric_total in totals.iteritems():\n",
    "    #    print(metric_total)\n",
    "    #print(totals.keys()[0])\n",
    "    #print(totals['rt:activeUsers'])\n",
    "    ds = datetime.datetime.fromtimestamp(time.time()).strftime('%Y-%m-%d %H:%M:%S')\n",
    "    #print(ds)\n",
    "    totals['ds'] = ds\n",
    "    totals['y'] = totals.pop('rt:activeUsers')\n",
    "    return totals\n",
    "\n"
   ]
  },
  {
   "cell_type": "code",
   "execution_count": 6,
   "metadata": {},
   "outputs": [],
   "source": [
    "rt_res = query_rt()"
   ]
  },
  {
   "cell_type": "code",
   "execution_count": 7,
   "metadata": {},
   "outputs": [
    {
     "name": "stdout",
     "output_type": "stream",
     "text": [
      "{'y': u'47', 'ds': '2017-11-21 00:27:32'}\n"
     ]
    }
   ],
   "source": [
    "#[{'y': '10000', 'ds': '2017-11-17 10:17:01'}]\n",
    "print rt_res"
   ]
  },
  {
   "cell_type": "code",
   "execution_count": 8,
   "metadata": {},
   "outputs": [],
   "source": [
    "#type(rt_res)"
   ]
  },
  {
   "cell_type": "code",
   "execution_count": 33,
   "metadata": {},
   "outputs": [
    {
     "data": {
      "text/plain": [
       "[{'ds': '2017-11-21 00:27:32', 'y': u'47'}]"
      ]
     },
     "execution_count": 33,
     "metadata": {},
     "output_type": "execute_result"
    }
   ],
   "source": [
    "[rt_res]"
   ]
  },
  {
   "cell_type": "code",
   "execution_count": 13,
   "metadata": {},
   "outputs": [],
   "source": [
    "def stream_data():\n",
    "    from bigquery import get_client\n",
    "    json_key = 'eam-poc-realtime-5a6f52eaaec6.json'\n",
    "    client = get_client(json_key_file=json_key, readonly=False)\n",
    "    rt_res = query_rt()\n",
    "    _log(str(rt_res))\n",
    "    inserted = client.push_rows('streaming', 'active_users', [rt_res], insert_id_key=str(uuid.uuid4()))\n",
    "    return str(inserted)"
   ]
  },
  {
   "cell_type": "code",
   "execution_count": 28,
   "metadata": {},
   "outputs": [
    {
     "data": {
      "text/plain": [
       "False"
      ]
     },
     "execution_count": 28,
     "metadata": {},
     "output_type": "execute_result"
    }
   ],
   "source": [
    "    from bigquery import get_client\n",
    "    json_key = 'eam-poc-realtime-5a6f52eaaec6.json'\n",
    "    client = get_client(json_key_file=json_key, readonly=False)\n",
    "    unique_id=uuid.uuid4()\n",
    "    #print(str(uuid.uuid4()))\n",
    "    client.push_rows(dataset='streaming', table='active_users',rows=[rt_res], insert_id_key=str(uuid.uuid4()))"
   ]
  },
  {
   "cell_type": "code",
   "execution_count": 30,
   "metadata": {},
   "outputs": [],
   "source": [
    "import uuid\n",
    "import logging\n",
    "\n",
    "logger = logging.getLogger(__name__)\n",
    "\n",
    "logger.info('init')\n",
    "_log(str(rt_res))"
   ]
  },
  {
   "cell_type": "markdown",
   "metadata": {},
   "source": [
    "# Submit an async query.\n",
    "job_id, _results = client.query('SELECT * FROM poc.streaming LIMIT 1000')\n",
    "\n",
    "# Check if the query has finished running.\n",
    "complete, row_count = client.check_job(job_id)\n",
    "\n",
    "# Retrieve the results.\n",
    "results = client.get_query_rows(job_id)"
   ]
  },
  {
   "cell_type": "markdown",
   "metadata": {},
   "source": [
    "rows =  [\n",
    "    {'ds': '2017-11-17 10:17:01', 'y': '10000'}\n",
    "]\n",
    "type(rows); print rows"
   ]
  },
  {
   "cell_type": "code",
   "execution_count": 19,
   "metadata": {},
   "outputs": [
    {
     "data": {
      "text/plain": [
       "[{'ds': '2017-11-21 00:27:32', 'y': u'47'}]"
      ]
     },
     "execution_count": 19,
     "metadata": {},
     "output_type": "execute_result"
    }
   ],
   "source": [
    "[rt_res]"
   ]
  },
  {
   "cell_type": "code",
   "execution_count": 32,
   "metadata": {},
   "outputs": [
    {
     "name": "stdout",
     "output_type": "stream",
     "text": [
      "ga-realtime-stream: {'y': u'60', 'ds': '2017-11-21 07:46:40'}\n"
     ]
    },
    {
     "data": {
      "text/plain": [
       "'True'"
      ]
     },
     "execution_count": 32,
     "metadata": {},
     "output_type": "execute_result"
    }
   ],
   "source": [
    "stream_data()"
   ]
  },
  {
   "cell_type": "code",
   "execution_count": null,
   "metadata": {},
   "outputs": [],
   "source": [
    "app = Flask(__name__)"
   ]
  },
  {
   "cell_type": "code",
   "execution_count": null,
   "metadata": {},
   "outputs": [],
   "source": [
    "@app.route('/')\n",
    "def stream():\n",
    "    stream_data()\n",
    "    return 'streamed!'"
   ]
  },
  {
   "cell_type": "code",
   "execution_count": null,
   "metadata": {},
   "outputs": [],
   "source": [
    "@app.errorhandler(500)\n",
    "def server_error(e):\n",
    "    #logging.exception('An error occurred during a request.')\n",
    "    msg = 'An error occurred during a request.'\n",
    "    print(msg)\n",
    "    _log(msg)\n",
    "    return \"\"\"\n",
    "    An internal error occurred: <pre>{}</pre>\n",
    "    See logs for full stacktrace.\n",
    "    \"\"\".format(e), 500\n",
    "\n",
    "\n",
    "if __name__ == '__main__':\n",
    "    # This is used when running locally. Gunicorn is used to run the\n",
    "    # application on Google App Engine. See entrypoint in app.yaml.\n",
    "    app.run(host='127.0.0.1', port=8081, debug=True)"
   ]
  },
  {
   "cell_type": "code",
   "execution_count": null,
   "metadata": {},
   "outputs": [],
   "source": []
  }
 ],
 "metadata": {
  "kernelspec": {
   "display_name": "Python VENV",
   "language": "python",
   "name": "venv"
  },
  "language_info": {
   "codemirror_mode": {
    "name": "ipython",
    "version": 2
   },
   "file_extension": ".py",
   "mimetype": "text/x-python",
   "name": "python",
   "nbconvert_exporter": "python",
   "pygments_lexer": "ipython2",
   "version": "2.7.14"
  }
 },
 "nbformat": 4,
 "nbformat_minor": 2
}
